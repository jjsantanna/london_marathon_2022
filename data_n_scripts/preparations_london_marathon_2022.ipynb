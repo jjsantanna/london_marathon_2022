{
 "cells": [
  {
   "cell_type": "markdown",
   "id": "0cc53739",
   "metadata": {},
   "source": [
    "# Preparations to London Marathon 2022\n",
    "Goal: run under 4h (<5:42 min/km)"
   ]
  },
  {
   "cell_type": "code",
   "execution_count": null,
   "id": "3e60bb7e",
   "metadata": {},
   "outputs": [],
   "source": []
  }
 ],
 "metadata": {
  "kernelspec": {
   "display_name": "Python 3",
   "language": "python",
   "name": "python3"
  },
  "language_info": {
   "codemirror_mode": {
    "name": "ipython",
    "version": 3
   },
   "file_extension": ".py",
   "mimetype": "text/x-python",
   "name": "python",
   "nbconvert_exporter": "python",
   "pygments_lexer": "ipython3",
   "version": "3.9.10"
  }
 },
 "nbformat": 4,
 "nbformat_minor": 5
}
